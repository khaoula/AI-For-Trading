{
 "cells": [
  {
   "cell_type": "markdown",
   "metadata": {},
   "source": [
    "# Project 1: Trading with Momentum\n",
    "## Instructions\n",
    "Each problem consists of a function to implement and instructions on how to implement the function.  The parts of the function that need to be implemented are marked with a `# TODO` comment. After implementing the function, run the cell to test it against the unit tests we've provided. For each problem, we provide one or more unit tests from our `project_tests` package. These unit tests won't tell you if your answer is correct, but will warn you of any major errors. Your code will be checked for the correct solution when you submit it to Udacity.\n",
    "\n",
    "## Packages\n",
    "When you implement the functions, you'll only need to you use the packages you've used in the classroom, like [Pandas](https://pandas.pydata.org/) and [Numpy](http://www.numpy.org/). These packages will be imported for you. We recommend you don't add any import statements, otherwise the grader might not be able to run your code.\n",
    "\n",
    "The other packages that we're importing are `helper`, `project_helper`, and `project_tests`. These are custom packages built to help you solve the problems.  The `helper` and `project_helper` module contains utility functions and graph functions. The `project_tests` contains the unit tests for all the problems.\n",
    "\n",
    "### Install Packages"
   ]
  },
  {
   "cell_type": "code",
   "execution_count": 12,
   "metadata": {},
   "outputs": [
    {
     "name": "stdout",
     "output_type": "stream",
     "text": [
      "Requirement already satisfied: colour==0.1.5 in /opt/conda/lib/python3.6/site-packages (from -r requirements.txt (line 1)) (0.1.5)\n",
      "Collecting cvxpy==1.0.3 (from -r requirements.txt (line 2))\n",
      "\u001b[?25l  Downloading https://files.pythonhosted.org/packages/a1/59/2613468ffbbe3a818934d06b81b9f4877fe054afbf4f99d2f43f398a0b34/cvxpy-1.0.3.tar.gz (880kB)\n",
      "\u001b[K    100% |████████████████████████████████| 880kB 16.2MB/s ta 0:00:01\n",
      "\u001b[?25hRequirement already satisfied: cycler==0.10.0 in /opt/conda/lib/python3.6/site-packages/cycler-0.10.0-py3.6.egg (from -r requirements.txt (line 3)) (0.10.0)\n",
      "Collecting numpy==1.13.3 (from -r requirements.txt (line 4))\n",
      "\u001b[?25l  Downloading https://files.pythonhosted.org/packages/57/a7/e3e6bd9d595125e1abbe162e323fd2d06f6f6683185294b79cd2cdb190d5/numpy-1.13.3-cp36-cp36m-manylinux1_x86_64.whl (17.0MB)\n",
      "\u001b[K    100% |████████████████████████████████| 17.0MB 1.3MB/s eta 0:00:01  1% |▌                               | 286kB 21.0MB/s eta 0:00:01    17% |█████▋                          | 3.0MB 30.4MB/s eta 0:00:01    33% |██████████▋                     | 5.6MB 32.4MB/s eta 0:00:01    62% |████████████████████▏           | 10.7MB 27.7MB/s eta 0:00:01    70% |██████████████████████▋         | 12.0MB 21.9MB/s eta 0:00:01    78% |█████████████████████████       | 13.3MB 21.4MB/s eta 0:00:01    99% |████████████████████████████████| 16.9MB 27.8MB/s eta 0:00:01\n",
      "\u001b[?25hCollecting pandas==0.21.1 (from -r requirements.txt (line 5))\n",
      "\u001b[?25l  Downloading https://files.pythonhosted.org/packages/3a/e1/6c514df670b887c77838ab856f57783c07e8760f2e3d5939203a39735e0e/pandas-0.21.1-cp36-cp36m-manylinux1_x86_64.whl (26.2MB)\n",
      "\u001b[K    100% |████████████████████████████████| 26.2MB 1.6MB/s eta 0:00:01   22% |███████▎                        | 6.0MB 30.6MB/s eta 0:00:01    28% |█████████▏                      | 7.5MB 33.4MB/s eta 0:00:01    34% |███████████                     | 9.0MB 32.8MB/s eta 0:00:01    51% |████████████████▍               | 13.4MB 30.5MB/s eta 0:00:01    72% |███████████████████████▎        | 19.1MB 31.0MB/s eta 0:00:01    92% |█████████████████████████████▊  | 24.4MB 5.3MB/s eta 0:00:01    97% |███████████████████████████████▍| 25.7MB 28.9MB/s eta 0:00:01\n",
      "\u001b[?25hCollecting plotly==2.2.3 (from -r requirements.txt (line 6))\n",
      "\u001b[?25l  Downloading https://files.pythonhosted.org/packages/99/a6/8214b6564bf4ace9bec8a26e7f89832792be582c042c47c912d3201328a0/plotly-2.2.3.tar.gz (1.1MB)\n",
      "\u001b[K    100% |████████████████████████████████| 1.1MB 14.8MB/s ta 0:00:01    85% |███████████████████████████▎    | 921kB 28.9MB/s eta 0:00:01\n",
      "\u001b[?25hRequirement already satisfied: pyparsing==2.2.0 in /opt/conda/lib/python3.6/site-packages (from -r requirements.txt (line 7)) (2.2.0)\n",
      "Requirement already satisfied: python-dateutil==2.6.1 in /opt/conda/lib/python3.6/site-packages (from -r requirements.txt (line 8)) (2.6.1)\n",
      "Requirement already satisfied: pytz==2017.3 in /opt/conda/lib/python3.6/site-packages (from -r requirements.txt (line 9)) (2017.3)\n",
      "Requirement already satisfied: requests==2.18.4 in /opt/conda/lib/python3.6/site-packages (from -r requirements.txt (line 10)) (2.18.4)\n",
      "Collecting scipy==1.0.0 (from -r requirements.txt (line 11))\n",
      "\u001b[?25l  Downloading https://files.pythonhosted.org/packages/d8/5e/caa01ba7be11600b6a9d39265440d7b3be3d69206da887c42bef049521f2/scipy-1.0.0-cp36-cp36m-manylinux1_x86_64.whl (50.0MB)\n",
      "\u001b[K    100% |████████████████████████████████| 50.0MB 500kB/s eta 0:00:01  1% |▍                               | 634kB 25.5MB/s eta 0:00:02    5% |█▋                              | 2.5MB 26.2MB/s eta 0:00:02    10% |███▎                            | 5.1MB 26.6MB/s eta 0:00:02    17% |█████▊                          | 8.9MB 26.0MB/s eta 0:00:02    35% |███████████▍                    | 17.7MB 27.1MB/s eta 0:00:02    37% |████████████                    | 18.9MB 23.9MB/s eta 0:00:02    59% |███████████████████▏            | 29.9MB 19.7MB/s eta 0:00:02    68% |██████████████████████          | 34.3MB 24.3MB/s eta 0:00:01    70% |██████████████████████▋         | 35.4MB 23.3MB/s eta 0:00:01    75% |████████████████████████        | 37.7MB 23.9MB/s eta 0:00:01    79% |█████████████████████████▌      | 39.8MB 23.0MB/s eta 0:00:01    81% |██████████████████████████▏     | 40.9MB 24.5MB/s eta 0:00:01    85% |███████████████████████████▌    | 42.9MB 18.6MB/s eta 0:00:01    87% |████████████████████████████    | 43.7MB 19.3MB/s eta 0:00:01    90% |█████████████████████████████   | 45.3MB 15.5MB/s eta 0:00:01    99% |███████████████████████████████▊| 49.6MB 18.6MB/s eta 0:00:01\n",
      "\u001b[?25hRequirement already satisfied: scikit-learn==0.19.1 in /opt/conda/lib/python3.6/site-packages (from -r requirements.txt (line 12)) (0.19.1)\n",
      "Requirement already satisfied: six==1.11.0 in /opt/conda/lib/python3.6/site-packages (from -r requirements.txt (line 13)) (1.11.0)\n",
      "Collecting tqdm==4.19.5 (from -r requirements.txt (line 14))\n",
      "\u001b[?25l  Downloading https://files.pythonhosted.org/packages/71/3c/341b4fa23cb3abc335207dba057c790f3bb329f6757e1fcd5d347bcf8308/tqdm-4.19.5-py2.py3-none-any.whl (51kB)\n",
      "\u001b[K    100% |████████████████████████████████| 61kB 8.8MB/s eta 0:00:01\n",
      "\u001b[?25hCollecting osqp (from cvxpy==1.0.3->-r requirements.txt (line 2))\n",
      "\u001b[?25l  Downloading https://files.pythonhosted.org/packages/6c/59/2b80e881be227eecef3f2b257339d182167b55d22a1315ff4303ddcfd42f/osqp-0.6.1-cp36-cp36m-manylinux1_x86_64.whl (208kB)\n",
      "\u001b[K    100% |████████████████████████████████| 215kB 14.5MB/s ta 0:00:01\n",
      "\u001b[?25hCollecting ecos>=2 (from cvxpy==1.0.3->-r requirements.txt (line 2))\n",
      "\u001b[?25l  Downloading https://files.pythonhosted.org/packages/55/ed/d131ff51f3a8f73420eb1191345eb49f269f23cadef515172e356018cde3/ecos-2.0.7.post1-cp36-cp36m-manylinux1_x86_64.whl (147kB)\n",
      "\u001b[K    100% |████████████████████████████████| 153kB 14.2MB/s ta 0:00:01\n",
      "\u001b[?25hCollecting scs>=1.1.3 (from cvxpy==1.0.3->-r requirements.txt (line 2))\n",
      "\u001b[?25l  Downloading https://files.pythonhosted.org/packages/f2/6e/dbdd778c64c1920ae357a2013ea655d65a1f8b60f397d6e5549e4aafe8ec/scs-2.1.1-2.tar.gz (157kB)\n",
      "\u001b[K    100% |████████████████████████████████| 163kB 14.1MB/s ta 0:00:01\n",
      "\u001b[?25hCollecting multiprocess (from cvxpy==1.0.3->-r requirements.txt (line 2))\n",
      "\u001b[?25l  Downloading https://files.pythonhosted.org/packages/50/40/b23b1ddd3cb0e072fdbec5f458e8369df48643a3b04dfb55365a63a51687/multiprocess-0.70.8.tar.gz (1.6MB)\n",
      "\u001b[K    100% |████████████████████████████████| 1.6MB 8.9MB/s eta 0:00:01    29% |█████████▋                      | 471kB 18.1MB/s eta 0:00:01\n",
      "\u001b[?25hRequirement already satisfied: fastcache in /opt/conda/lib/python3.6/site-packages (from cvxpy==1.0.3->-r requirements.txt (line 2)) (1.0.2)\n",
      "Requirement already satisfied: toolz in /opt/conda/lib/python3.6/site-packages (from cvxpy==1.0.3->-r requirements.txt (line 2)) (0.8.2)\n",
      "Requirement already satisfied: decorator>=4.0.6 in /opt/conda/lib/python3.6/site-packages (from plotly==2.2.3->-r requirements.txt (line 6)) (4.0.11)\n",
      "Requirement already satisfied: nbformat>=4.2 in /opt/conda/lib/python3.6/site-packages (from plotly==2.2.3->-r requirements.txt (line 6)) (4.4.0)\n",
      "Requirement already satisfied: chardet<3.1.0,>=3.0.2 in /opt/conda/lib/python3.6/site-packages (from requests==2.18.4->-r requirements.txt (line 10)) (3.0.4)\n",
      "Requirement already satisfied: idna<2.7,>=2.5 in /opt/conda/lib/python3.6/site-packages (from requests==2.18.4->-r requirements.txt (line 10)) (2.6)\n",
      "Requirement already satisfied: urllib3<1.23,>=1.21.1 in /opt/conda/lib/python3.6/site-packages (from requests==2.18.4->-r requirements.txt (line 10)) (1.22)\n",
      "Requirement already satisfied: certifi>=2017.4.17 in /opt/conda/lib/python3.6/site-packages (from requests==2.18.4->-r requirements.txt (line 10)) (2017.11.5)\n",
      "Requirement already satisfied: future in /opt/conda/lib/python3.6/site-packages (from osqp->cvxpy==1.0.3->-r requirements.txt (line 2)) (0.16.0)\n",
      "Collecting dill>=0.3.0 (from multiprocess->cvxpy==1.0.3->-r requirements.txt (line 2))\n",
      "\u001b[?25l  Downloading https://files.pythonhosted.org/packages/39/7a/70803635c850e351257029089d38748516a280864c97cbc73087afef6d51/dill-0.3.0.tar.gz (151kB)\n",
      "\u001b[K    100% |████████████████████████████████| 153kB 16.2MB/s ta 0:00:01\n",
      "\u001b[?25hRequirement already satisfied: traitlets>=4.1 in /opt/conda/lib/python3.6/site-packages (from nbformat>=4.2->plotly==2.2.3->-r requirements.txt (line 6)) (4.3.2)\n",
      "Requirement already satisfied: jupyter-core in /opt/conda/lib/python3.6/site-packages (from nbformat>=4.2->plotly==2.2.3->-r requirements.txt (line 6)) (4.4.0)\n",
      "Requirement already satisfied: jsonschema!=2.5.0,>=2.4 in /opt/conda/lib/python3.6/site-packages (from nbformat>=4.2->plotly==2.2.3->-r requirements.txt (line 6)) (2.6.0)\n"
     ]
    },
    {
     "name": "stdout",
     "output_type": "stream",
     "text": [
      "Requirement already satisfied: ipython-genutils in /opt/conda/lib/python3.6/site-packages (from nbformat>=4.2->plotly==2.2.3->-r requirements.txt (line 6)) (0.2.0)\n",
      "Building wheels for collected packages: cvxpy, plotly, scs, multiprocess, dill\n",
      "  Running setup.py bdist_wheel for cvxpy ... \u001b[?25ldone\n",
      "\u001b[?25h  Stored in directory: /root/.cache/pip/wheels/2b/60/0b/0c2596528665e21d698d6f84a3406c52044c7b4ca6ac737cf3\n",
      "  Running setup.py bdist_wheel for plotly ... \u001b[?25ldone\n",
      "\u001b[?25h  Stored in directory: /root/.cache/pip/wheels/98/54/81/dd92d5b0858fac680cd7bdb8800eb26c001dd9f5dc8b1bc0ba\n",
      "  Running setup.py bdist_wheel for scs ... \u001b[?25ldone\n",
      "\u001b[?25h  Stored in directory: /root/.cache/pip/wheels/68/3f/24/e9c75d426f600634cdac68321184ba06fdc4ab2d189b5c4541\n",
      "  Running setup.py bdist_wheel for multiprocess ... \u001b[?25ldone\n",
      "\u001b[?25h  Stored in directory: /root/.cache/pip/wheels/b9/61/60/f2130887941f13dcbbfbc4ceef5f1114ea1ea3ff372444965c\n",
      "  Running setup.py bdist_wheel for dill ... \u001b[?25ldone\n",
      "\u001b[?25h  Stored in directory: /root/.cache/pip/wheels/c9/de/a4/a91eec4eea652104d8c81b633f32ead5eb57d1b294eab24167\n",
      "Successfully built cvxpy plotly scs multiprocess dill\n",
      "\u001b[31mtensorflow 1.3.0 requires tensorflow-tensorboard<0.2.0,>=0.1.0, which is not installed.\u001b[0m\n",
      "\u001b[31mmoviepy 0.2.3.2 has requirement tqdm==4.11.2, but you'll have tqdm 4.19.5 which is incompatible.\u001b[0m\n",
      "Installing collected packages: numpy, scipy, osqp, ecos, scs, dill, multiprocess, cvxpy, pandas, plotly, tqdm\n",
      "  Found existing installation: numpy 1.12.1\n",
      "    Uninstalling numpy-1.12.1:\n",
      "      Successfully uninstalled numpy-1.12.1\n",
      "  Found existing installation: scipy 0.19.1\n",
      "    Uninstalling scipy-0.19.1:\n",
      "      Successfully uninstalled scipy-0.19.1\n",
      "  Found existing installation: dill 0.2.7.1\n",
      "    Uninstalling dill-0.2.7.1:\n",
      "      Successfully uninstalled dill-0.2.7.1\n",
      "  Found existing installation: pandas 0.23.3\n",
      "    Uninstalling pandas-0.23.3:\n",
      "      Successfully uninstalled pandas-0.23.3\n",
      "  Found existing installation: plotly 2.0.15\n",
      "    Uninstalling plotly-2.0.15:\n",
      "      Successfully uninstalled plotly-2.0.15\n",
      "  Found existing installation: tqdm 4.11.2\n",
      "    Uninstalling tqdm-4.11.2:\n",
      "      Successfully uninstalled tqdm-4.11.2\n",
      "Successfully installed cvxpy-1.0.3 dill-0.3.0 ecos-2.0.7.post1 multiprocess-0.70.8 numpy-1.13.3 osqp-0.6.1 pandas-0.21.1 plotly-2.2.3 scipy-1.0.0 scs-2.1.1.post2 tqdm-4.19.5\n"
     ]
    }
   ],
   "source": [
    "import sys\n",
    "!{sys.executable} -m pip install -r requirements.txt"
   ]
  },
  {
   "cell_type": "markdown",
   "metadata": {},
   "source": [
    "### Load Packages"
   ]
  },
  {
   "cell_type": "code",
   "execution_count": 13,
   "metadata": {},
   "outputs": [],
   "source": [
    "import pandas as pd\n",
    "import numpy as np\n",
    "import helper\n",
    "import project_helper\n",
    "import project_tests"
   ]
  },
  {
   "cell_type": "markdown",
   "metadata": {},
   "source": [
    "## Market Data\n",
    "### Load Data\n",
    "The data we use for most of the projects is end of day data. This contains data for many stocks, but we'll be looking at stocks in the S&P 500. We also made things a little easier to run by narrowing down our range of time period instead of using all of the data."
   ]
  },
  {
   "cell_type": "code",
   "execution_count": null,
   "metadata": {},
   "outputs": [],
   "source": [
    "df = pd.read_csv('../../data/project_1/eod-quotemedia.csv', parse_dates=['date'], index_col=False)\n",
    "\n",
    "close = df.reset_index().pivot(index='date', columns='ticker', values='adj_close')\n",
    "\n",
    "print('Loaded Data')"
   ]
  },
  {
   "cell_type": "markdown",
   "metadata": {},
   "source": [
    "### View Data\n",
    "Run the cell below to see what the data looks like for `close`."
   ]
  },
  {
   "cell_type": "code",
   "execution_count": null,
   "metadata": {
    "scrolled": true
   },
   "outputs": [],
   "source": [
    "project_helper.print_dataframe(close)"
   ]
  },
  {
   "cell_type": "markdown",
   "metadata": {},
   "source": [
    "### Stock Example\n",
    "Let's see what a single stock looks like from the closing prices. For this example and future display examples in this project, we'll use Apple's stock (AAPL). If we tried to graph all the stocks, it would be too much information."
   ]
  },
  {
   "cell_type": "code",
   "execution_count": null,
   "metadata": {},
   "outputs": [],
   "source": [
    "apple_ticker = 'AAPL'\n",
    "project_helper.plot_stock(close[apple_ticker], '{} Stock'.format(apple_ticker))"
   ]
  },
  {
   "cell_type": "markdown",
   "metadata": {},
   "source": [
    "## Resample Adjusted Prices\n",
    "\n",
    "The trading signal you'll develop in this project does not need to be based on daily prices, for instance, you can use month-end prices to perform trading once a month. To do this, you must first resample the daily adjusted closing prices into monthly buckets, and select the last observation of each month.\n",
    "\n",
    "Implement the `resample_prices` to resample `close_prices` at the sampling frequency of `freq`."
   ]
  },
  {
   "cell_type": "code",
   "execution_count": null,
   "metadata": {},
   "outputs": [],
   "source": [
    "def resample_prices(close_prices, freq='M'):\n",
    "    \"\"\"\n",
    "    Resample close prices for each ticker at specified frequency.\n",
    "    \n",
    "    Parameters\n",
    "    ----------\n",
    "    close_prices : DataFrame\n",
    "        Close prices for each ticker and date\n",
    "    freq : str\n",
    "        What frequency to sample at\n",
    "        For valid freq choices, see http://pandas.pydata.org/pandas-docs/stable/timeseries.html#offset-aliases\n",
    "    \n",
    "    Returns\n",
    "    -------\n",
    "    prices_resampled : DataFrame\n",
    "        Resampled prices for each ticker and date\n",
    "    \"\"\"\n",
    "    # TODO: Implement Function\n",
    "    prices = close_prices.resample('M').last()\n",
    "    print(prices)\n",
    "    return prices\n",
    "\n",
    "project_tests.test_resample_prices(resample_prices)"
   ]
  },
  {
   "cell_type": "markdown",
   "metadata": {},
   "source": [
    "### View Data\n",
    "Let's apply this function to `close` and view the results."
   ]
  },
  {
   "cell_type": "code",
   "execution_count": null,
   "metadata": {},
   "outputs": [],
   "source": [
    "monthly_close = resample_prices(close)\n",
    "project_helper.plot_resampled_prices(\n",
    "    monthly_close.loc[:, apple_ticker],\n",
    "    close.loc[:, apple_ticker],\n",
    "    '{} Stock - Close Vs Monthly Close'.format(apple_ticker))"
   ]
  },
  {
   "cell_type": "markdown",
   "metadata": {},
   "source": [
    "## Compute Log Returns\n",
    "\n",
    "Compute log returns ($R_t$) from prices ($P_t$) as your primary momentum indicator:\n",
    "\n",
    "$$R_t = log_e(P_t) - log_e(P_{t-1})$$\n",
    "\n",
    "Implement the `compute_log_returns` function below, such that it accepts a dataframe (like one returned by `resample_prices`), and produces a similar dataframe of log returns. Use Numpy's [log function](https://docs.scipy.org/doc/numpy/reference/generated/numpy.log.html) to help you calculate the log returns."
   ]
  },
  {
   "cell_type": "code",
   "execution_count": null,
   "metadata": {},
   "outputs": [],
   "source": [
    "def compute_log_returns(prices):\n",
    "    \"\"\"\n",
    "    Compute log returns for each ticker.\n",
    "    \n",
    "    Parameters\n",
    "    ----------\n",
    "    prices : DataFrame\n",
    "        Prices for each ticker and date\n",
    "    \n",
    "    Returns\n",
    "    -------\n",
    "    log_returns : DataFrame\n",
    "        Log returns for each ticker and date\n",
    "    \"\"\"\n",
    "    # TODO: Implement Function\n",
    "    log = np.log(prices)-np.log(prices.shift(1))\n",
    "    print(log)\n",
    "    return log\n",
    "project_tests.test_compute_log_returns(compute_log_returns)"
   ]
  },
  {
   "cell_type": "markdown",
   "metadata": {},
   "source": [
    "### View Data\n",
    "Using the same data returned from `resample_prices`, we'll generate the log returns."
   ]
  },
  {
   "cell_type": "code",
   "execution_count": 13,
   "metadata": {},
   "outputs": [
    {
     "name": "stdout",
     "output_type": "stream",
     "text": [
      "ticker               A         AAL         AAP        AAPL        ABBV  \\\n",
      "date                                                                     \n",
      "2013-07-31         nan         nan         nan         nan         nan   \n",
      "2013-08-31  0.04181412 -0.18015337 -0.02977582  0.08044762 -0.06518370   \n",
      "2013-09-30  0.09657861  0.15979244  0.03282284 -0.02171531  0.04855545   \n",
      "2013-10-31 -0.00960698  0.14734639  0.18195865  0.09201927  0.08860637   \n",
      "2013-11-30  0.05388057  0.06647111  0.01828314  0.06772063  0.00000000   \n",
      "2013-12-31  0.06769609  0.07267716  0.09197258  0.00886237  0.08616823   \n",
      "2014-01-31  0.01664682  0.28421071  0.03663543 -0.11394918 -0.06220213   \n",
      "2014-02-28 -0.02120344  0.09598737  0.10373913  0.05588347  0.03355617   \n",
      "2014-03-31 -0.01790035 -0.00897599 -0.00629368  0.01975642  0.00957880   \n",
      "2014-04-30 -0.03182502 -0.04270218 -0.04205794  0.09476126  0.02214224   \n",
      "2014-05-31  0.05227357  0.13552541  0.02346722  0.07577509  0.04229556   \n",
      "2014-06-30  0.01103586  0.06739797  0.08351026  0.02728625  0.03810157   \n",
      "2014-07-31 -0.02378338 -0.09799068 -0.10798279  0.02832630 -0.06780436   \n",
      "2014-08-31  0.01889681  0.00079762  0.11903914  0.07465224  0.05465028   \n",
      "2014-09-30 -0.00082047 -0.09153654 -0.04545245 -0.01722060  0.04388532   \n",
      "2014-10-31 -0.03028915  0.15558158  0.12032096  0.06948903  0.10172478   \n",
      "2014-11-30  0.06740128  0.16010974  0.00081622  0.10071836  0.08659108   \n",
      "2014-12-31 -0.04302767  0.09992645  0.08005917 -0.07460613 -0.05586717   \n",
      "2015-01-31 -0.07812999 -0.08865699 -0.00175946  0.05961156 -0.07327254   \n",
      "2015-02-28  0.11114202 -0.02228945 -0.02593080  0.09598802  0.00248242   \n",
      "2015-03-31 -0.01333009  0.09701683 -0.03400439 -0.03187426 -0.03293308   \n",
      "2015-04-30 -0.00434154 -0.08694248 -0.04572186  0.00576971  0.10773129   \n",
      "2015-05-31 -0.00436047 -0.13068039  0.06903017  0.04431573  0.02941164   \n",
      "2015-06-30 -0.06296587 -0.05918743  0.03922895 -0.03797801  0.00897001   \n",
      "2015-07-31  0.05961780  0.00412320  0.08953503 -0.03344115  0.04841767   \n",
      "2015-08-31 -0.12025862 -0.02595965  0.00595206 -0.06849869 -0.11491257   \n",
      "2015-09-30 -0.05317503 -0.00385555  0.07866971 -0.02523595 -0.13717756   \n",
      "2015-10-31  0.09523073  0.17421946  0.04588907  0.08329065  0.09970324   \n",
      "2015-11-30  0.10212435 -0.11137087 -0.19834401 -0.00580146 -0.02379042   \n",
      "2015-12-31  0.00250761  0.02607491 -0.07765707 -0.11679029  0.01857111   \n",
      "2016-01-31 -0.10480259 -0.08266322  0.01017989 -0.07822348 -0.06500804   \n",
      "2016-02-29 -0.00800004  0.05307585 -0.02402858 -0.00133143 -0.00529633   \n",
      "2016-03-31  0.06478949  0.00024387  0.07749311  0.11974615  0.04493730   \n",
      "2016-04-30  0.02934536 -0.16736448 -0.02679973 -0.15073114  0.07532447   \n",
      "2016-05-31  0.11462829 -0.08063179 -0.01458373  0.06933886  0.03114913   \n",
      "2016-06-30 -0.03131999 -0.11970434  0.04978712 -0.04359639 -0.01634128   \n",
      "2016-07-31  0.08115189  0.22631760  0.04966480  0.08623527  0.07621369   \n",
      "2016-08-31 -0.02376808  0.02526745 -0.07631131  0.02334347 -0.03268917   \n",
      "2016-09-30  0.00477784  0.00850369 -0.05350196  0.06344815 -0.01619914   \n",
      "2016-10-31 -0.07769182  0.10344664 -0.06253766  0.00432500 -0.11356073   \n",
      "2016-11-30  0.00936614  0.13692923  0.19193633 -0.02178228  0.08617441   \n",
      "2016-12-31  0.03818318  0.00536885 -0.00319576  0.04684076  0.02949493   \n",
      "2017-01-31  0.07217773 -0.05367464 -0.02927975  0.04664167 -0.01399583   \n",
      "2017-02-28  0.04648289  0.04873915 -0.04757013  0.12552425  0.01187489   \n",
      "2017-03-31  0.03263890 -0.09164993 -0.05439459  0.04754147  0.05229538   \n",
      "2017-04-30  0.04040579  0.00753654 -0.04215500 -0.00006961  0.02182202   \n",
      "2017-05-31  0.09175337  0.12956238 -0.06173770  0.06557216  0.00121249   \n",
      "2017-06-30 -0.01497493  0.03869621 -0.13591186 -0.05891588  0.09376676   \n",
      "\n",
      "ticker             ABC         ABT         ACN        ADBE         ADI  \\\n",
      "date                                                                     \n",
      "2013-07-31         nan         nan         nan         nan         nan   \n",
      "2013-08-31 -0.01609335 -0.09440968 -0.02136190 -0.03289558 -0.05749847   \n",
      "2013-09-30  0.07086509 -0.00420927  0.01905603  0.12689741  0.01650096   \n",
      "2013-10-31  0.06693948  0.10058564  0.01124304  0.04296064  0.04671322   \n",
      "2013-11-30  0.07997603  0.04389252  0.05260536  0.04613431 -0.02215021   \n",
      "2013-12-31 -0.00312412  0.00365918  0.05950782  0.05314171  0.06162558   \n",
      "2014-01-31 -0.04494321 -0.03893724 -0.02887307 -0.01157325 -0.05364189   \n",
      "2014-02-28  0.01278407  0.08167803  0.04252310  0.14797715  0.05873111   \n",
      "2014-03-31 -0.03387614 -0.03244633 -0.04452811 -0.04302219  0.04463996   \n",
      "2014-04-30 -0.00627057  0.01187986  0.01803285 -0.06358573 -0.03543414   \n",
      "2014-05-31  0.11924492  0.03225676  0.01521647  0.04516334  0.02805861   \n",
      "2014-06-30 -0.00713113  0.02200064 -0.00751744  0.11436847  0.03175466   \n",
      "2014-07-31  0.05684488  0.03470536 -0.01948600 -0.04393196 -0.08568401   \n",
      "2014-08-31  0.00928406  0.00284495  0.02220373  0.03755456  0.02958032   \n",
      "2014-09-30 -0.00116362 -0.01550789  0.00320237 -0.03841992 -0.02506897   \n",
      "2014-10-31  0.09976923  0.05225014  0.01089553  0.01335172  0.00262335   \n",
      "2014-11-30  0.06719583  0.02088612  0.06224762  0.04952333  0.09637224   \n",
      "2014-12-31 -0.00982294  0.01139295  0.03393630 -0.01339001  0.02250327   \n",
      "2015-01-31  0.05281720 -0.00042641 -0.06093959 -0.03599072 -0.06348240   \n",
      "2015-02-28  0.08089383  0.05667423  0.06896907  0.12036221  0.12320729   \n",
      "2015-03-31  0.10090334 -0.02219942  0.03984851 -0.06745892  0.07342445   \n",
      "2015-04-30  0.00552706  0.00708541 -0.00049630  0.02826855 -0.01858432   \n",
      "2015-05-31 -0.01281413  0.04589313  0.03593582  0.03906394  0.10020918   \n",
      "2015-06-30 -0.05684490  0.00982809  0.00767559  0.02398616 -0.05714976   \n",
      "2015-07-31 -0.00556369  0.03709245  0.06335602  0.01202468 -0.09565300   \n",
      "2015-08-31 -0.05271992 -0.11264239 -0.08963337 -0.04260734 -0.03591771   \n",
      "2015-09-30 -0.05179848 -0.11872187  0.04145402  0.04540863  0.00979789   \n",
      "2015-10-31  0.01587501  0.11369172  0.09776101  0.07541025  0.06369612   \n",
      "2015-11-30  0.02533250  0.00267499  0.00018655  0.03109289  0.02480620   \n",
      "2015-12-31  0.05012168 -0.00022264 -0.02569573  0.02675456 -0.10145040   \n",
      "2016-01-31 -0.14668975 -0.16459543  0.00990296 -0.05256030 -0.02674642   \n",
      "2016-02-29 -0.02946371  0.02324168 -0.05132322 -0.04568157 -0.00821101   \n",
      "2016-03-31 -0.00080845  0.07674113  0.14063754  0.09675045  0.11064939   \n",
      "2016-04-30 -0.01689525 -0.06663976 -0.01220169  0.00446762 -0.04970290   \n",
      "2016-05-31 -0.12208554  0.01859216  0.05219176  0.05422362  0.04515902   \n",
      "2016-06-30  0.05626889 -0.00810747 -0.04892046 -0.03769780 -0.03231130   \n",
      "2016-07-31  0.07139375  0.13578830 -0.00424592  0.02137959  0.11950785   \n",
      "2016-08-31  0.02449340 -0.06294575  0.01922714  0.04446953 -0.01342097   \n",
      "2016-09-30 -0.07383382  0.00640496  0.06048139  0.05911135  0.02976363   \n",
      "2016-10-31 -0.13867316 -0.06852950 -0.03945196 -0.00953490 -0.00544537   \n",
      "2016-11-30  0.10806742 -0.03027006  0.02707341 -0.04470124  0.15250011   \n",
      "2016-12-31  0.00256115  0.00889127 -0.01944600  0.00136081 -0.02206272   \n",
      "2017-01-31  0.10997958  0.09029065 -0.02822698  0.09650158  0.03144743   \n",
      "2017-02-28  0.05135996  0.07626031  0.07305358  0.04281683  0.09464624   \n",
      "2017-03-31 -0.03344570 -0.01497402 -0.02161979  0.09497211  0.00024408   \n",
      "2017-04-30 -0.07567373 -0.01142815  0.02214547  0.02736367 -0.07274784   \n",
      "2017-05-31  0.11615820  0.04524848  0.02579791  0.05894304  0.11819123   \n",
      "2017-06-30  0.02963180  0.06260663 -0.00636714 -0.00296506 -0.09185947   \n",
      "\n",
      "ticker         ...              XL        XLNX         XOM        XRAY  \\\n",
      "date           ...                                                       \n",
      "2013-07-31     ...             nan         nan         nan         nan   \n",
      "2013-08-31     ...     -0.05879217 -0.06720501 -0.06596571 -0.02097402   \n",
      "2013-09-30     ...      0.04630944  0.07605219 -0.01293321  0.03481157   \n",
      "2013-10-31     ...     -0.00814469 -0.03082169  0.04076620  0.08157415   \n",
      "2013-11-30     ...      0.04540422 -0.01674184  0.04899644  0.00961292   \n",
      "2013-12-31     ...     -0.00005037  0.03298584  0.07935125  0.02044076   \n",
      "2014-01-31     ...     -0.10243348  0.01082965 -0.09357256 -0.04947109   \n",
      "2014-02-28     ...      0.05615273  0.12286783  0.05062164 -0.01660877   \n",
      "2014-03-31     ...      0.03284340  0.03888909  0.01454009  0.01589505   \n",
      "2014-04-30     ...      0.00319489 -0.13978958  0.04728753 -0.03110431   \n",
      "2014-05-31     ...      0.03479430  0.00123427 -0.01178295  0.05789258   \n",
      "2014-06-30     ...      0.01315416  0.00742551  0.00149098  0.00264665   \n",
      "2014-07-31     ...     -0.01508417 -0.13998391 -0.01743356 -0.01983642   \n",
      "2014-08-31     ...      0.05843276  0.03386045  0.01220640  0.02730581   \n",
      "2014-09-30     ...     -0.02525829  0.00236407 -0.05592900 -0.04369616   \n",
      "2014-10-31     ...      0.02117902  0.04253010  0.02789025  0.10739791   \n",
      "2014-11-30     ...      0.04727105  0.03443096 -0.05880687  0.07966385   \n",
      "2014-12-31     ...     -0.02838693 -0.04847111  0.02087622 -0.03037006   \n",
      "2015-01-31     ...      0.00348534 -0.11531726 -0.05594387 -0.06285044   \n",
      "2015-02-28     ...      0.04838969  0.10127687  0.02024303  0.05795769   \n",
      "2015-03-31     ...      0.02092430 -0.00165348 -0.04080317 -0.03938489   \n",
      "2015-04-30     ...      0.00757990  0.02475027  0.02750072  0.00215919   \n",
      "2015-05-31     ...      0.01605171  0.09654661 -0.01677365  0.02009094   \n",
      "2015-06-30     ...     -0.00860127 -0.07122468 -0.02375409 -0.00797670   \n",
      "2015-07-31     ...      0.02180358 -0.05611995 -0.04914479  0.09891886   \n",
      "2015-08-31     ...     -0.01938714  0.01075955 -0.04204308 -0.08237366   \n",
      "2015-09-30     ...     -0.02096434  0.01139343 -0.01189933 -0.03437113   \n",
      "2015-10-31     ...      0.04732066  0.11681228  0.10691949  0.18505330   \n",
      "2015-11-30     ...      0.00262261  0.04908477 -0.00427045 -0.00312732   \n",
      "2015-12-31     ...      0.03118510 -0.05629461 -0.04649669  0.00432337   \n",
      "2016-01-31     ...     -0.07745121  0.06789938 -0.00128370 -0.03274052   \n",
      "2016-02-29     ...     -0.05324021 -0.05604739  0.03819057  0.03454661   \n",
      "2016-03-31     ...      0.07359389  0.00443741  0.04202402  0.01220241   \n",
      "2016-04-30     ...     -0.11720576 -0.09619609  0.05594807 -0.03349319   \n",
      "2016-05-31     ...      0.04830993  0.10290823  0.01539863  0.04205613   \n",
      "2016-06-30     ...     -0.02466162 -0.02694774  0.05166393 -0.00071206   \n",
      "2016-07-31     ...      0.03828501  0.10192953 -0.05245058  0.03172855   \n",
      "2016-08-31     ...     -0.01104021  0.06579968 -0.01191629 -0.04112133   \n",
      "2016-09-30     ...     -0.01178072  0.00239521  0.00160532 -0.03228879   \n",
      "2016-10-31     ...      0.03132116 -0.06598725 -0.04643273 -0.03179755   \n",
      "2016-11-30     ...      0.04038386  0.06594093  0.05541489  0.01054005   \n",
      "2016-12-31     ...      0.03615589  0.11187869  0.03334393 -0.00643281   \n",
      "2017-01-31     ...      0.00828549 -0.03660694 -0.07318798 -0.01800276   \n",
      "2017-02-28     ...      0.07484917  0.01624776 -0.02195182  0.11358061   \n",
      "2017-03-31     ...     -0.01017620 -0.01593728  0.00844920 -0.01575947   \n",
      "2017-04-30     ...      0.04871848  0.08633458 -0.00439937  0.01273092   \n",
      "2017-05-31     ...      0.04302745  0.06090411 -0.00482798  0.00441780   \n",
      "2017-06-30     ...      0.00769349 -0.03648424  0.00285307  0.02190798   \n",
      "\n",
      "ticker             XRX         XYL         YUM         ZBH        ZION  \\\n",
      "date                                                                     \n",
      "2013-07-31         nan         nan         nan         nan         nan   \n",
      "2013-08-31  0.02845720 -0.00134868 -0.04058203 -0.05402072 -0.05663911   \n",
      "2013-09-30  0.03611367  0.11966450  0.01937689  0.04028369 -0.01985983   \n",
      "2013-10-31 -0.03460553  0.21535825 -0.04870385  0.06287079  0.03494040   \n",
      "2013-11-30  0.13529041  0.00173762  0.13869403  0.04405904  0.03381174   \n",
      "2013-12-31  0.07181852  0.00115674 -0.02700927  0.02143144  0.02125228   \n",
      "2014-01-31 -0.11480883 -0.03649610 -0.11361565  0.00833515 -0.04122539   \n",
      "2014-02-28  0.01282069  0.16849675  0.09821667 -0.00138443  0.08307315   \n",
      "2014-03-31  0.03352930 -0.07737790  0.01752905  0.01022814 -0.00707626   \n",
      "2014-04-30  0.06757594  0.03161998  0.02580642  0.02320097 -0.06880844   \n",
      "2014-05-31  0.02127740 -0.00437311  0.00414777  0.07510359 -0.01005896   \n",
      "2014-06-30  0.01231307  0.04661750  0.04909193 -0.00262106  0.03031579   \n",
      "2014-07-31  0.06383490 -0.10201119 -0.15259272 -0.03717391 -0.02230321   \n",
      "2014-08-31  0.04064098  0.05432073  0.04273371 -0.00762369  0.01245116   \n",
      "2014-09-30 -0.03818588 -0.04527723 -0.00623228  0.01452958 -0.00274914   \n",
      "2014-10-31  0.00377217  0.02786669  0.00399386  0.10103487 -0.00310185   \n",
      "2014-11-30  0.04993695  0.05302447  0.07274470  0.00939481 -0.02173021   \n",
      "2014-12-31 -0.00277876 -0.00706717 -0.05864438  0.01193901  0.01590983   \n",
      "2015-01-31 -0.05106548 -0.11012919 -0.00220105 -0.01170641 -0.17386913   \n",
      "2015-02-28  0.03579801  0.04975030  0.11525879  0.07134515  0.11109071   \n",
      "2015-03-31 -0.05485114 -0.01923136 -0.02990901 -0.02227720  0.00986330   \n",
      "2015-04-30 -0.11099678  0.05553898  0.09320743 -0.06758378  0.04826092   \n",
      "2015-05-31 -0.00698083 -0.00836304  0.04714907  0.03992801  0.02108818   \n",
      "2015-06-30 -0.06439073  0.01357979 -0.00033298 -0.04353182  0.09427086   \n",
      "2015-07-31  0.03509132 -0.07097951 -0.02148999 -0.04839200 -0.01732264   \n",
      "2015-08-31 -0.08026959 -0.05779847 -0.09545832 -0.00491259 -0.07084284   \n",
      "2015-09-30 -0.03699314  0.01225130  0.00225395 -0.09522347 -0.05165634   \n",
      "2015-10-31 -0.03556860  0.10289172 -0.11330487  0.10730688  0.04369368   \n",
      "2015-11-30  0.11648057  0.02852030  0.02231302 -0.03463718  0.04255223   \n",
      "2015-12-31  0.01407508 -0.02221712  0.00741965  0.01765935 -0.09297646   \n",
      "2016-01-31 -0.08641291 -0.01518318 -0.00271062 -0.03299779 -0.18540322   \n",
      "2016-02-29 -0.01446306  0.04398671  0.00138083 -0.02499238 -0.05907417   \n",
      "2016-03-31  0.15666230  0.08919201  0.12171562  0.09887961  0.12712017   \n",
      "2016-04-30 -0.15057286  0.02128769 -0.02279296  0.08224057  0.12814724   \n",
      "2016-05-31  0.03781749  0.07021508  0.03130475  0.05331681  0.02029299   \n",
      "2016-06-30 -0.04083362 -0.00022394  0.01006008 -0.01224782 -0.10885619   \n",
      "2016-07-31  0.08190528  0.06838052  0.08081880  0.08561205  0.10384723   \n",
      "2016-08-31 -0.04467244  0.06487578  0.01432323 -0.01173551  0.09555297   \n",
      "2016-09-30  0.03568895  0.03078357  0.00110181  0.00504351  0.01395900   \n",
      "2016-10-31 -0.03618485 -0.08180785 -0.04530849 -0.20992565  0.03764481   \n",
      "2016-11-30 -0.04394012  0.06826631  0.02387708 -0.03416331  0.21341820   \n",
      "2016-12-31 -0.06031217 -0.04075737 -0.00094697  0.01539556  0.07851429   \n",
      "2017-01-31  0.14387403 -0.00424973  0.03879000  0.13680848 -0.01994669   \n",
      "2017-02-28  0.07101104 -0.02065858 -0.00320978 -0.01061987  0.06402762   \n",
      "2017-03-31 -0.00497178  0.04271546 -0.02197891  0.04404029 -0.06676818   \n",
      "2017-04-30 -0.02064767  0.02341935  0.03320595 -0.02035146 -0.04804045   \n",
      "2017-05-31 -0.01683069  0.01750300  0.09965606 -0.00368417  0.00296435   \n",
      "2017-06-30  0.02428615  0.06118855  0.01530084  0.07612942  0.09151416   \n",
      "\n",
      "ticker             ZTS  \n",
      "date                    \n",
      "2013-07-31         nan  \n",
      "2013-08-31 -0.02238899  \n",
      "2013-09-30  0.06539579  \n",
      "2013-10-31  0.01922875  \n",
      "2013-11-30 -0.01623981  \n",
      "2013-12-31  0.04825498  \n",
      "2014-01-31 -0.07165581  \n",
      "2014-02-28  0.02150621  \n",
      "2014-03-31 -0.06940744  \n",
      "2014-04-30  0.04700792  \n",
      "2014-05-31  0.01443595  \n",
      "2014-06-30  0.04987535  \n",
      "2014-07-31  0.01963856  \n",
      "2014-08-31  0.07618433  \n",
      "2014-09-30  0.04172452  \n",
      "2014-10-31  0.00372782  \n",
      "2014-11-30  0.19371924  \n",
      "2014-12-31 -0.04320818  \n",
      "2015-01-31 -0.00509269  \n",
      "2015-02-28  0.07569476  \n",
      "2015-03-31  0.00432995  \n",
      "2015-04-30 -0.03944740  \n",
      "2015-05-31  0.11372257  \n",
      "2015-06-30 -0.03163852  \n",
      "2015-07-31  0.01563818  \n",
      "2015-08-31 -0.08592248  \n",
      "2015-09-30 -0.08581672  \n",
      "2015-10-31  0.04347995  \n",
      "2015-11-30  0.08408991  \n",
      "2015-12-31  0.02578879  \n",
      "2016-01-31 -0.10497356  \n",
      "2016-02-29 -0.04732782  \n",
      "2016-03-31  0.07662724  \n",
      "2016-04-30  0.06119388  \n",
      "2016-05-31  0.00825838  \n",
      "2016-06-30  0.00288761  \n",
      "2016-07-31  0.06149185  \n",
      "2016-08-31  0.01240540  \n",
      "2016-09-30  0.01765151  \n",
      "2016-10-31 -0.08441037  \n",
      "2016-11-30  0.05457719  \n",
      "2016-12-31  0.06064797  \n",
      "2017-01-31  0.02796748  \n",
      "2017-02-28 -0.03011775  \n",
      "2017-03-31  0.00112486  \n",
      "2017-04-30  0.05205758  \n",
      "2017-05-31  0.10432630  \n",
      "2017-06-30  0.00329757  \n",
      "\n",
      "[48 rows x 495 columns]\n"
     ]
    },
    {
     "ename": "NameError",
     "evalue": "name 'apple_ticker' is not defined",
     "output_type": "error",
     "traceback": [
      "\u001b[0;31m---------------------------------------------------------------------------\u001b[0m",
      "\u001b[0;31mNameError\u001b[0m                                 Traceback (most recent call last)",
      "\u001b[0;32m<ipython-input-13-b275b74e749b>\u001b[0m in \u001b[0;36m<module>\u001b[0;34m()\u001b[0m\n\u001b[1;32m      1\u001b[0m \u001b[0mmonthly_close_returns\u001b[0m \u001b[0;34m=\u001b[0m \u001b[0mcompute_log_returns\u001b[0m\u001b[0;34m(\u001b[0m\u001b[0mmonthly_close\u001b[0m\u001b[0;34m)\u001b[0m\u001b[0;34m\u001b[0m\u001b[0m\n\u001b[1;32m      2\u001b[0m project_helper.plot_returns(\n\u001b[0;32m----> 3\u001b[0;31m     \u001b[0mmonthly_close_returns\u001b[0m\u001b[0;34m.\u001b[0m\u001b[0mloc\u001b[0m\u001b[0;34m[\u001b[0m\u001b[0;34m:\u001b[0m\u001b[0;34m,\u001b[0m \u001b[0mapple_ticker\u001b[0m\u001b[0;34m]\u001b[0m\u001b[0;34m,\u001b[0m\u001b[0;34m\u001b[0m\u001b[0m\n\u001b[0m\u001b[1;32m      4\u001b[0m     'Log Returns of {} Stock (Monthly)'.format(apple_ticker))\n",
      "\u001b[0;31mNameError\u001b[0m: name 'apple_ticker' is not defined"
     ]
    }
   ],
   "source": [
    "monthly_close_returns = compute_log_returns(monthly_close)\n",
    "project_helper.plot_returns(\n",
    "    monthly_close_returns.loc[:, apple_ticker],\n",
    "    'Log Returns of {} Stock (Monthly)'.format(apple_ticker))"
   ]
  },
  {
   "cell_type": "markdown",
   "metadata": {},
   "source": [
    "## Shift Returns\n",
    "Implement the `shift_returns` function to shift the log returns to the previous or future returns in the time series. For example, the parameter `shift_n` is 2 and `returns` is the following:\n",
    "\n",
    "```\n",
    "                           Returns\n",
    "               A         B         C         D\n",
    "2013-07-08     0.015     0.082     0.096     0.020     ...\n",
    "2013-07-09     0.037     0.095     0.027     0.063     ...\n",
    "2013-07-10     0.094     0.001     0.093     0.019     ...\n",
    "2013-07-11     0.092     0.057     0.069     0.087     ...\n",
    "...            ...       ...       ...       ...\n",
    "```\n",
    "\n",
    "the output of the `shift_returns` function would be:\n",
    "```\n",
    "                        Shift Returns\n",
    "               A         B         C         D\n",
    "2013-07-08     NaN       NaN       NaN       NaN       ...\n",
    "2013-07-09     NaN       NaN       NaN       NaN       ...\n",
    "2013-07-10     0.015     0.082     0.096     0.020     ...\n",
    "2013-07-11     0.037     0.095     0.027     0.063     ...\n",
    "...            ...       ...       ...       ...\n",
    "```\n",
    "Using the same `returns` data as above, the `shift_returns` function should generate the following with `shift_n` as -2:\n",
    "```\n",
    "                        Shift Returns\n",
    "               A         B         C         D\n",
    "2013-07-08     0.094     0.001     0.093     0.019     ...\n",
    "2013-07-09     0.092     0.057     0.069     0.087     ...\n",
    "...            ...       ...       ...       ...       ...\n",
    "...            ...       ...       ...       ...       ...\n",
    "...            NaN       NaN       NaN       NaN       ...\n",
    "...            NaN       NaN       NaN       NaN       ...\n",
    "```\n",
    "_Note: The \"...\" represents data points we're not showing._"
   ]
  },
  {
   "cell_type": "code",
   "execution_count": null,
   "metadata": {},
   "outputs": [],
   "source": [
    "def shift_returns(returns, shift_n):\n",
    "    \"\"\"\n",
    "    Generate shifted returns\n",
    "    \n",
    "    Parameters\n",
    "    ----------\n",
    "    returns : DataFrame\n",
    "        Returns for each ticker and date\n",
    "    shift_n : int\n",
    "        Number of periods to move, can be positive or negative\n",
    "    \n",
    "    Returns\n",
    "    -------\n",
    "    shifted_returns : DataFrame\n",
    "        Shifted returns for each ticker and date\n",
    "    \"\"\"\n",
    "    # TODO: Implement Function\n",
    "    shift_returns = returns.shift(shift_n)\n",
    "    print(shift_returns)\n",
    "    return shift_returns\n",
    "\n",
    "project_tests.test_shift_returns(shift_returns)"
   ]
  },
  {
   "cell_type": "markdown",
   "metadata": {},
   "source": [
    "### View Data\n",
    "Let's get the previous month's and next month's returns."
   ]
  },
  {
   "cell_type": "code",
   "execution_count": null,
   "metadata": {},
   "outputs": [],
   "source": [
    "prev_returns = shift_returns(monthly_close_returns, 1)\n",
    "lookahead_returns = shift_returns(monthly_close_returns, -1)\n",
    "\n",
    "project_helper.plot_shifted_returns(\n",
    "    prev_returns.loc[:, apple_ticker],\n",
    "    monthly_close_returns.loc[:, apple_ticker],\n",
    "    'Previous Returns of {} Stock'.format(apple_ticker))\n",
    "project_helper.plot_shifted_returns(\n",
    "    lookahead_returns.loc[:, apple_ticker],\n",
    "    monthly_close_returns.loc[:, apple_ticker],\n",
    "    'Lookahead Returns of {} Stock'.format(apple_ticker))"
   ]
  },
  {
   "cell_type": "markdown",
   "metadata": {},
   "source": [
    "## Generate Trading Signal\n",
    "\n",
    "A trading signal is a sequence of trading actions, or results that can be used to take trading actions. A common form is to produce a \"long\" and \"short\" portfolio of stocks on each date (e.g. end of each month, or whatever frequency you desire to trade at). This signal can be interpreted as rebalancing your portfolio on each of those dates, entering long (\"buy\") and short (\"sell\") positions as indicated.\n",
    "\n",
    "Here's a strategy that we will try:\n",
    "> For each month-end observation period, rank the stocks by _previous_ returns, from the highest to the lowest. Select the top performing stocks for the long portfolio, and the bottom performing stocks for the short portfolio.\n",
    "\n",
    "Implement the `get_top_n` function to get the top performing stock for each month. Get the top performing stocks from `prev_returns` by assigning them a value of 1. For all other stocks, give them a value of 0. For example, using the following `prev_returns`:\n",
    "\n",
    "```\n",
    "                                     Previous Returns\n",
    "               A         B         C         D         E         F         G\n",
    "2013-07-08     0.015     0.082     0.096     0.020     0.075     0.043     0.074\n",
    "2013-07-09     0.037     0.095     0.027     0.063     0.024     0.086     0.025\n",
    "...            ...       ...       ...       ...       ...       ...       ...\n",
    "```\n",
    "\n",
    "The function `get_top_n` with `top_n` set to 3 should return the following:\n",
    "```\n",
    "                                     Previous Returns\n",
    "               A         B         C         D         E         F         G\n",
    "2013-07-08     0         1         1         0         1         0         0\n",
    "2013-07-09     0         1         0         1         0         1         0\n",
    "...            ...       ...       ...       ...       ...       ...       ...\n",
    "```\n",
    "*Note: You may have to use Panda's [`DataFrame.iterrows`](https://pandas.pydata.org/pandas-docs/version/0.21/generated/pandas.DataFrame.iterrows.html) with [`Series.nlargest`](https://pandas.pydata.org/pandas-docs/version/0.21/generated/pandas.Series.nlargest.html) in order to implement the function. This is one of those cases where creating a vecorization solution is too difficult.*"
   ]
  },
  {
   "cell_type": "code",
   "execution_count": null,
   "metadata": {
    "scrolled": true
   },
   "outputs": [],
   "source": [
    "def get_top_n(prev_returns, top_n):\n",
    "    \"\"\"\n",
    "    Select the top performing stocks\n",
    "    \n",
    "    Parameters\n",
    "    ----------\n",
    "    prev_returns : DataFrame\n",
    "        Previous shifted returns for each ticker and date\n",
    "    top_n : int\n",
    "        The number of top performing stocks to get\n",
    "    \n",
    "    Returns\n",
    "    -------\n",
    "    top_stocks : DataFrame\n",
    "        Top stocks for each ticker and date marked with a 1\n",
    "    \"\"\"\n",
    "    # TODO: Implement Function\n",
    "    gtn = pd.DataFrame(0, index=prev_returns.index, columns=prev_returns.columns)\n",
    "    for x in range(prev_returns.shape[0]):\n",
    "           gtn.loc[prev_returns.index[x]][prev_returns.iloc[x].nlargest(top_n).index] = 1\n",
    "    \n",
    "    print(gtn)\n",
    "    \n",
    "    return gtn\n",
    "\n",
    "project_tests.test_get_top_n(get_top_n)"
   ]
  },
  {
   "cell_type": "markdown",
   "metadata": {},
   "source": [
    "### View Data\n",
    "We want to get the best performing and worst performing stocks. To get the best performing stocks, we'll use the `get_top_n` function. To get the worst performing stocks, we'll also use the `get_top_n` function. However, we pass in `-1*prev_returns` instead of just `prev_returns`. Multiplying by negative one will flip all the positive returns to negative and negative returns to positive. Thus, it will return the worst performing stocks."
   ]
  },
  {
   "cell_type": "code",
   "execution_count": null,
   "metadata": {},
   "outputs": [],
   "source": [
    "top_bottom_n = 50\n",
    "df_long = get_top_n(prev_returns, top_bottom_n)\n",
    "df_short = get_top_n(-1*prev_returns, top_bottom_n)\n",
    "project_helper.print_top(df_long, 'Longed Stocks')\n",
    "project_helper.print_top(df_short, 'Shorted Stocks')"
   ]
  },
  {
   "cell_type": "markdown",
   "metadata": {},
   "source": [
    "## Projected Returns\n",
    "It's now time to check if your trading signal has the potential to become profitable!\n",
    "\n",
    "We'll start by computing the net returns this portfolio would return. For simplicity, we'll assume every stock gets an equal dollar amount of investment. This makes it easier to compute a portfolio's returns as the simple arithmetic average of the individual stock returns.\n",
    "\n",
    "Implement the `portfolio_returns` function to compute the expected portfolio returns. Using `df_long` to indicate which stocks to long and `df_short` to indicate which stocks to short, calculate the returns using `lookahead_returns`. To help with calculation, we've provided you with `n_stocks` as the number of stocks we're investing in a single period."
   ]
  },
  {
   "cell_type": "code",
   "execution_count": null,
   "metadata": {},
   "outputs": [],
   "source": [
    "def portfolio_returns(df_long, df_short, lookahead_returns, n_stocks):\n",
    "    \"\"\"\n",
    "    Compute expected returns for the portfolio, assuming equal investment in each long/short stock.\n",
    "    \n",
    "    Parameters\n",
    "    ----------\n",
    "    df_long : DataFrame\n",
    "        Top stocks for each ticker and date marked with a 1\n",
    "    df_short : DataFrame\n",
    "        Bottom stocks for each ticker and date marked with a 1\n",
    "    lookahead_returns : DataFrame\n",
    "        Lookahead returns for each ticker and date\n",
    "    n_stocks: int\n",
    "        The number number of stocks chosen for each month\n",
    "    \n",
    "    Returns\n",
    "    -------\n",
    "    portfolio_returns : DataFrame\n",
    "        Expected portfolio returns for each ticker and date\n",
    "    \"\"\"\n",
    "    # TODO: Implement Function\n",
    "    df_long1 = df_long*lookahead_returns\n",
    "    df_short1 = df_short*lookahead_returns\n",
    "    \n",
    "    \n",
    "    ret = (df_long1-df_short1)\n",
    "    ret_avg = ret/n_stocks\n",
    "    \n",
    "    return ret_avg\n",
    "\n",
    "project_tests.test_portfolio_returns(portfolio_returns)"
   ]
  },
  {
   "cell_type": "markdown",
   "metadata": {},
   "source": [
    "### View Data\n",
    "Time to see how the portfolio did."
   ]
  },
  {
   "cell_type": "code",
   "execution_count": null,
   "metadata": {},
   "outputs": [],
   "source": [
    "expected_portfolio_returns = portfolio_returns(df_long, df_short, lookahead_returns, 2*top_bottom_n)\n",
    "project_helper.plot_returns(expected_portfolio_returns.T.sum(), 'Portfolio Returns')"
   ]
  },
  {
   "cell_type": "markdown",
   "metadata": {},
   "source": [
    "## Statistical Tests\n",
    "### Annualized Rate of Return"
   ]
  },
  {
   "cell_type": "code",
   "execution_count": 6,
   "metadata": {},
   "outputs": [
    {
     "ename": "NameError",
     "evalue": "name 'expected_portfolio_returns' is not defined",
     "output_type": "error",
     "traceback": [
      "\u001b[0;31m---------------------------------------------------------------------------\u001b[0m",
      "\u001b[0;31mNameError\u001b[0m                                 Traceback (most recent call last)",
      "\u001b[0;32m<ipython-input-6-324ef2be5a38>\u001b[0m in \u001b[0;36m<module>\u001b[0;34m()\u001b[0m\n\u001b[0;32m----> 1\u001b[0;31m \u001b[0mexpected_portfolio_returns_by_date\u001b[0m \u001b[0;34m=\u001b[0m \u001b[0mexpected_portfolio_returns\u001b[0m\u001b[0;34m.\u001b[0m\u001b[0mT\u001b[0m\u001b[0;34m.\u001b[0m\u001b[0msum\u001b[0m\u001b[0;34m(\u001b[0m\u001b[0;34m)\u001b[0m\u001b[0;34m.\u001b[0m\u001b[0mdropna\u001b[0m\u001b[0;34m(\u001b[0m\u001b[0;34m)\u001b[0m\u001b[0;34m\u001b[0m\u001b[0m\n\u001b[0m\u001b[1;32m      2\u001b[0m \u001b[0mportfolio_ret_mean\u001b[0m \u001b[0;34m=\u001b[0m \u001b[0mexpected_portfolio_returns_by_date\u001b[0m\u001b[0;34m.\u001b[0m\u001b[0mmean\u001b[0m\u001b[0;34m(\u001b[0m\u001b[0;34m)\u001b[0m\u001b[0;34m\u001b[0m\u001b[0m\n\u001b[1;32m      3\u001b[0m \u001b[0mportfolio_ret_ste\u001b[0m \u001b[0;34m=\u001b[0m \u001b[0mexpected_portfolio_returns_by_date\u001b[0m\u001b[0;34m.\u001b[0m\u001b[0msem\u001b[0m\u001b[0;34m(\u001b[0m\u001b[0;34m)\u001b[0m\u001b[0;34m\u001b[0m\u001b[0m\n\u001b[1;32m      4\u001b[0m \u001b[0mportfolio_ret_annual_rate\u001b[0m \u001b[0;34m=\u001b[0m \u001b[0;34m(\u001b[0m\u001b[0mnp\u001b[0m\u001b[0;34m.\u001b[0m\u001b[0mexp\u001b[0m\u001b[0;34m(\u001b[0m\u001b[0mportfolio_ret_mean\u001b[0m \u001b[0;34m*\u001b[0m \u001b[0;36m12\u001b[0m\u001b[0;34m)\u001b[0m \u001b[0;34m-\u001b[0m \u001b[0;36m1\u001b[0m\u001b[0;34m)\u001b[0m \u001b[0;34m*\u001b[0m \u001b[0;36m100\u001b[0m\u001b[0;34m\u001b[0m\u001b[0m\n\u001b[1;32m      5\u001b[0m \u001b[0;34m\u001b[0m\u001b[0m\n",
      "\u001b[0;31mNameError\u001b[0m: name 'expected_portfolio_returns' is not defined"
     ]
    }
   ],
   "source": [
    "expected_portfolio_returns_by_date = expected_portfolio_returns.T.sum().dropna()\n",
    "portfolio_ret_mean = expected_portfolio_returns_by_date.mean()\n",
    "portfolio_ret_ste = expected_portfolio_returns_by_date.sem()\n",
    "portfolio_ret_annual_rate = (np.exp(portfolio_ret_mean * 12) - 1) * 100\n",
    "\n",
    "print(\"\"\"\n",
    "Mean:                       {:.6f}\n",
    "Standard Error:             {:.6f}\n",
    "Annualized Rate of Return:  {:.2f}%\n",
    "\"\"\".format(portfolio_ret_mean, portfolio_ret_ste, portfolio_ret_annual_rate))"
   ]
  },
  {
   "cell_type": "markdown",
   "metadata": {},
   "source": [
    "The annualized rate of return allows you to compare the rate of return from this strategy to other quoted rates of return, which are usually quoted on an annual basis. \n",
    "\n",
    "### T-Test\n",
    "Our null hypothesis ($H_0$) is that the actual mean return from the signal is zero. We'll perform a one-sample, one-sided t-test on the observed mean return, to see if we can reject $H_0$.\n",
    "\n",
    "We'll need to first compute the t-statistic, and then find its corresponding p-value. The p-value will indicate the probability of observing a t-statistic equally or more extreme than the one we observed if the null hypothesis were true. A small p-value means that the chance of observing the t-statistic we observed under the null hypothesis is small, and thus casts doubt on the null hypothesis. It's good practice to set a desired level of significance or alpha ($\\alpha$) _before_ computing the p-value, and then reject the null hypothesis if $p < \\alpha$.\n",
    "\n",
    "For this project, we'll use $\\alpha = 0.05$, since it's a common value to use.\n",
    "\n",
    "Implement the `analyze_alpha` function to perform a t-test on the sample of portfolio returns. We've imported the `scipy.stats` module for you to perform the t-test.\n",
    "\n",
    "Note: [`scipy.stats.ttest_1samp`](https://docs.scipy.org/doc/scipy-1.0.0/reference/generated/scipy.stats.ttest_1samp.html) performs a two-sided test, so divide the p-value by 2 to get 1-sided p-value"
   ]
  },
  {
   "cell_type": "code",
   "execution_count": 7,
   "metadata": {},
   "outputs": [
    {
     "ename": "NameError",
     "evalue": "name 'project_tests' is not defined",
     "output_type": "error",
     "traceback": [
      "\u001b[0;31m---------------------------------------------------------------------------\u001b[0m",
      "\u001b[0;31mNameError\u001b[0m                                 Traceback (most recent call last)",
      "\u001b[0;32m<ipython-input-7-381251aa5d3e>\u001b[0m in \u001b[0;36m<module>\u001b[0;34m()\u001b[0m\n\u001b[1;32m     22\u001b[0m     \u001b[0;32mreturn\u001b[0m \u001b[0mt\u001b[0m\u001b[0;34m,\u001b[0m\u001b[0mp\u001b[0m\u001b[0;34m/\u001b[0m\u001b[0;36m2\u001b[0m\u001b[0;34m\u001b[0m\u001b[0m\n\u001b[1;32m     23\u001b[0m \u001b[0;34m\u001b[0m\u001b[0m\n\u001b[0;32m---> 24\u001b[0;31m \u001b[0mproject_tests\u001b[0m\u001b[0;34m.\u001b[0m\u001b[0mtest_analyze_alpha\u001b[0m\u001b[0;34m(\u001b[0m\u001b[0manalyze_alpha\u001b[0m\u001b[0;34m)\u001b[0m\u001b[0;34m\u001b[0m\u001b[0m\n\u001b[0m",
      "\u001b[0;31mNameError\u001b[0m: name 'project_tests' is not defined"
     ]
    }
   ],
   "source": [
    "from scipy import stats\n",
    "\n",
    "def analyze_alpha(expected_portfolio_returns_by_date):\n",
    "    \"\"\"\n",
    "    Perform a t-test with the null hypothesis being that the expected mean return is zero.\n",
    "    \n",
    "    Parameters\n",
    "    ----------\n",
    "    expected_portfolio_returns_by_date : Pandas Series\n",
    "        Expected portfolio returns for each date\n",
    "    \n",
    "    Returns\n",
    "    -------\n",
    "    t_value\n",
    "        T-statistic from t-test\n",
    "    p_value\n",
    "        Corresponding p-value\n",
    "    \"\"\"\n",
    "    # TODO: Implement Function\n",
    "\n",
    "    t,p = stats.ttest_1samp(expected_portfolio_returns_by_date,0)\n",
    "    return t,p/2\n",
    "\n",
    "project_tests.test_analyze_alpha(analyze_alpha)"
   ]
  },
  {
   "cell_type": "markdown",
   "metadata": {},
   "source": [
    "### View Data\n",
    "Let's see what values we get with our portfolio. After you run this, make sure to answer the question below."
   ]
  },
  {
   "cell_type": "code",
   "execution_count": 2,
   "metadata": {},
   "outputs": [
    {
     "ename": "NameError",
     "evalue": "name 'expected_portfolio_returns_by_date' is not defined",
     "output_type": "error",
     "traceback": [
      "\u001b[0;31m---------------------------------------------------------------------------\u001b[0m",
      "\u001b[0;31mNameError\u001b[0m                                 Traceback (most recent call last)",
      "\u001b[0;32m<ipython-input-2-07fe8a203bd1>\u001b[0m in \u001b[0;36m<module>\u001b[0;34m()\u001b[0m\n\u001b[0;32m----> 1\u001b[0;31m \u001b[0mt_value\u001b[0m\u001b[0;34m,\u001b[0m \u001b[0mp_value\u001b[0m \u001b[0;34m=\u001b[0m \u001b[0manalyze_alpha\u001b[0m\u001b[0;34m(\u001b[0m\u001b[0mexpected_portfolio_returns_by_date\u001b[0m\u001b[0;34m)\u001b[0m\u001b[0;34m\u001b[0m\u001b[0m\n\u001b[0m\u001b[1;32m      2\u001b[0m print(\"\"\"\n\u001b[1;32m      3\u001b[0m \u001b[0mAlpha\u001b[0m \u001b[0manalysis\u001b[0m\u001b[0;34m:\u001b[0m\u001b[0;34m\u001b[0m\u001b[0m\n\u001b[1;32m      4\u001b[0m  \u001b[0mt\u001b[0m\u001b[0;34m-\u001b[0m\u001b[0mvalue\u001b[0m\u001b[0;34m:\u001b[0m        \u001b[0;34m{\u001b[0m\u001b[0;34m:\u001b[0m\u001b[0;36m.3\u001b[0m\u001b[0mf\u001b[0m\u001b[0;34m}\u001b[0m\u001b[0;34m\u001b[0m\u001b[0m\n\u001b[1;32m      5\u001b[0m  \u001b[0mp\u001b[0m\u001b[0;34m-\u001b[0m\u001b[0mvalue\u001b[0m\u001b[0;34m:\u001b[0m        \u001b[0;34m{\u001b[0m\u001b[0;34m:\u001b[0m\u001b[0;36m.6\u001b[0m\u001b[0mf\u001b[0m\u001b[0;34m}\u001b[0m\u001b[0;34m\u001b[0m\u001b[0m\n",
      "\u001b[0;31mNameError\u001b[0m: name 'expected_portfolio_returns_by_date' is not defined"
     ]
    }
   ],
   "source": [
    "t_value, p_value = analyze_alpha(expected_portfolio_returns_by_date)\n",
    "print(\"\"\"\n",
    "Alpha analysis:\n",
    " t-value:        {:.3f}\n",
    " p-value:        {:.6f}\n",
    "\"\"\".format(t_value, p_value))"
   ]
  },
  {
   "cell_type": "markdown",
   "metadata": {},
   "source": [
    "### Question: What p-value did you observe? And what does that indicate about your signal?"
   ]
  },
  {
   "cell_type": "markdown",
   "metadata": {},
   "source": [
    "*#TODO: Put Answer In this Cell*"
   ]
  },
  {
   "cell_type": "markdown",
   "metadata": {},
   "source": [
    "## Submission\n",
    "Now that you're done with the project, it's time to submit it. Click the submit button in the bottom right. One of our reviewers will give you feedback on your project with a pass or not passed grade. You can continue to the next section while you wait for feedback."
   ]
  }
 ],
 "metadata": {
  "kernelspec": {
   "display_name": "Python 3",
   "language": "python",
   "name": "python3"
  },
  "language_info": {
   "codemirror_mode": {
    "name": "ipython",
    "version": 3
   },
   "file_extension": ".py",
   "mimetype": "text/x-python",
   "name": "python",
   "nbconvert_exporter": "python",
   "pygments_lexer": "ipython3",
   "version": "3.6.3"
  }
 },
 "nbformat": 4,
 "nbformat_minor": 2
}
